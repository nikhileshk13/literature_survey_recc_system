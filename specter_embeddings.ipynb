{
 "cells": [
  {
   "cell_type": "code",
   "execution_count": 2,
   "metadata": {},
   "outputs": [],
   "source": [
    "from sentence_transformers import SentenceTransformer\n",
    "import tensorflow as tf\n",
    "import pandas as pd\n",
    "import numpy as np\n",
    "\n",
    "import warnings\n",
    "warnings.filterwarnings('ignore')"
   ]
  },
  {
   "cell_type": "code",
   "execution_count": 3,
   "metadata": {},
   "outputs": [],
   "source": [
    "model = SentenceTransformer('allenai-specter')"
   ]
  },
  {
   "cell_type": "code",
   "execution_count": 4,
   "metadata": {},
   "outputs": [],
   "source": [
    "# defining a function to generate embedding using the specter model\n",
    "# input is given to the model using a batch size of 32\n",
    "def generate_embeddings(data, model, batch_size=32):\n",
    "    all_embeddings = []\n",
    "\n",
    "    for i in range(0, len(data), batch_size):\n",
    "        print('processing', i)\n",
    "        batch = data.iloc[i:i + batch_size]['abstract'].tolist()\n",
    "\n",
    "        # Generate embeddings using Specter model\n",
    "        embeddings = model.encode(batch, convert_to_tensor=True)\n",
    "\n",
    "        all_embeddings.append(embeddings)\n",
    "\n",
    "    return tf.concat(all_embeddings, axis=0)"
   ]
  },
  {
   "cell_type": "code",
   "execution_count": null,
   "metadata": {},
   "outputs": [],
   "source": [
    "# generating embeddings for each chunk of data and saving them\n",
    "# finding embeddings for the first 10 chunks\n",
    "for i in range(0, 10):\n",
    "    data = pd.read_csv(rf'chunks_1000\\data\\{i}.csv')\n",
    "    embeddings = generate_embeddings(data, model)\n",
    "    np.save(rf'chunks_1000\\embeddings\\{i}.npy', embeddings.numpy())"
   ]
  },
  {
   "cell_type": "code",
   "execution_count": null,
   "metadata": {},
   "outputs": [],
   "source": []
  }
 ],
 "metadata": {
  "kernelspec": {
   "display_name": "literature_survey_recc",
   "language": "python",
   "name": "python3"
  },
  "language_info": {
   "codemirror_mode": {
    "name": "ipython",
    "version": 3
   },
   "file_extension": ".py",
   "mimetype": "text/x-python",
   "name": "python",
   "nbconvert_exporter": "python",
   "pygments_lexer": "ipython3",
   "version": "3.11.4"
  }
 },
 "nbformat": 4,
 "nbformat_minor": 2
}
